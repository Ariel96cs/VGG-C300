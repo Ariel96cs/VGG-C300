{
 "cells": [
  {
   "cell_type": "code",
   "execution_count": 1,
   "metadata": {},
   "outputs": [],
   "source": [
    "from preparing_data import augment_data\n"
   ]
  },
  {
   "cell_type": "code",
   "execution_count": 2,
   "metadata": {},
   "outputs": [],
   "source": [
    "augment_data('./masses_train/','train3')"
   ]
  },
  {
   "cell_type": "code",
   "execution_count": 3,
   "metadata": {},
   "outputs": [
    {
     "name": "stdout",
     "output_type": "stream",
     "text": [
      "5064\n"
     ]
    }
   ],
   "source": [
    "a0 = !ls './augmented_data/train2/0'\n",
    "a1 = !ls './augmented_data/train2/1'\n",
    "print(len(a0)+len(a1))"
   ]
  },
  {
   "cell_type": "code",
   "execution_count": 1,
   "metadata": {},
   "outputs": [],
   "source": [
    "# from skimage import io\n",
    "from pathlib import Path\n",
    "import numpy as np\n",
    "from matplotlib import image as img\n",
    "from random import sample\n",
    "\n",
    "import tensorflow.keras as keras\n",
    "from PIL import Image\n",
    "def my_load_img(fname):\n",
    "    img = Image.open(fname)\n",
    "    rbg_img = img.convert('RGB')\n",
    "    array = keras.preprocessing.image.img_to_array(rbg_img) \n",
    "    return array\n",
    "\n",
    "def rgbt2gray(rgb):\n",
    "    return np.dot(rgb[...,:3],[0.2989,0.5870,0.1140])\n",
    "\n",
    "def load_data(data_path='augmented_data/train_set',size=4398, img_size=(256,256,3),cmap='rgb'):\n",
    "    '''\n",
    "        Load from data_path size random images \n",
    "    '''\n",
    "    \n",
    "    X = np.zeros(shape=(size,img_size[0],img_size[1],img_size[2]))\n",
    "    y = np.zeros(shape=(size))\n",
    "    last_index= 0  \n",
    "    sample_0_size = size - int(size/2)\n",
    "    sample_1_size = size - sample_0_size\n",
    "    \n",
    "    \n",
    "    negatives_path = data_path+'/0/'\n",
    "    positives_path = data_path+'/1/'\n",
    "    \n",
    "    pn = Path(negatives_path)\n",
    "    pp = Path(positives_path)\n",
    "    p_list = list(pp.iterdir())\n",
    "    n_list = list(pn.iterdir())\n",
    "    p_len = len(p_list)\n",
    "    n_len = len(n_list)\n",
    "    \n",
    "    assert p_len+n_len >= size\n",
    "    if n_len<sample_0_size:\n",
    "        sample_1_size += sample_0_size - n_len\n",
    "        sample_0_size = n_len\n",
    "    n_list = sample(n_list,sample_0_size)\n",
    "    \n",
    "    if p_len<sample_1_size:\n",
    "        sample_0_size+=sample_1_size-p_len\n",
    "        sample_1_size = p_len\n",
    "    p_list = sample(p_list,sample_1_size)\n",
    "    \n",
    "    for l,current_class in [(n_list,0),(p_list,1)]:\n",
    "        for j in l:\n",
    "            if j.is_file():\n",
    "                if cmap == 'gray':\n",
    "                    X[last_index] = rgbt2gray(img.imread(str(j)))\n",
    "                elif cmap == 'rgb':\n",
    "                    X[last_index] = my_load_img(str(j))\n",
    "                y[last_index] = current_class\n",
    "                last_index += 1\n",
    "\n",
    "    return X,y\n",
    "    "
   ]
  },
  {
   "cell_type": "code",
   "execution_count": 2,
   "metadata": {},
   "outputs": [],
   "source": []
  },
  {
   "cell_type": "code",
   "execution_count": 3,
   "metadata": {},
   "outputs": [],
   "source": [
    "import pickle\n",
    "from matplotlib import pyplot as plt\n",
    "\n",
    "def train_model(model,callbacks,X_train,y_train,X_val,y_val,history_file_name='histories_learning_curves.pickle'):\n",
    "    \n",
    "    print('Training model with size ',(len(y_train),len(y_val)),' ...')\n",
    "    history = model.fit(X_train,\n",
    "                        y_train,\n",
    "                        batch_size=20,\n",
    "                        epochs=30,\n",
    "                        validation_data=(X_val, y_val),shuffle=True, callbacks=callbacks)\n",
    "    print('Trained model')\n",
    "     \n",
    "    with open(history_file_name,'rb') as file:\n",
    "        histories = pickle.load(file)\n",
    "    with open(history_file_name,'wb') as file:\n",
    "        size = len(y_train)\n",
    "        histories.append((size,history.history['acc'],history.history['val_acc'],history.history['loss'],history.history['val_loss']))\n",
    "        pickle.dump(histories,file)\n"
   ]
  },
  {
   "cell_type": "code",
   "execution_count": null,
   "metadata": {},
   "outputs": [],
   "source": []
  },
  {
   "cell_type": "code",
   "execution_count": 4,
   "metadata": {},
   "outputs": [],
   "source": [
    "#todo: configure data path and validation path\n",
    "import multiprocessing as mp\n",
    "\n",
    "def learning_curves(model_init,train_path='augmented_data/train_set',validation_path='augmented_data/validation_set', validation_size=600,sequence_of_data_sizes=[600,900,1200,1500,1800,2100,2400,2700,3200,3500,3800,4000],history_file_name='histories_learning_curves.pickle'):\n",
    "    def _train_(model_init,size,history_file_name):\n",
    "            model,callbacks = model_init()\n",
    "            X_train,y_train = load_data(train_path,size=size)\n",
    "            X_val,y_val = load_data(validation_path,size=validation_size)\n",
    "            train_model(model,callbacks,X_train,y_train,X_val,y_val,history_file_name)\n",
    "            del model\n",
    "    histories = []\n",
    "    \n",
    "    with open(history_file_name,'wb') as file:\n",
    "        pickle.dump(histories,file)\n",
    "        \n",
    "    for size in sequence_of_data_sizes:\n",
    "        \n",
    "        p = mp.Process(target=_train_,args=(model_init,size,history_file_name,))\n",
    "        p.start()\n",
    "        p.join()\n",
    "    "
   ]
  },
  {
   "cell_type": "code",
   "execution_count": 5,
   "metadata": {},
   "outputs": [],
   "source": [
    "def init_model():\n",
    "    BATCH_SIZE = 8\n",
    "    keras.preprocessing.image.load_img = my_load_img\n",
    "    from tensorflow.keras.models import load_model\n",
    "    from tensorflow.keras.preprocessing.image import ImageDataGenerator\n",
    "    from tensorflow.keras.optimizers import RMSprop, SGD,Adam\n",
    "    from tensorflow.keras.regularizers import l2,l1,l1_l2\n",
    "    from tensorflow.keras.applications.resnet50 import ResNet50\n",
    "    from tensorflow.keras.applications.vgg16 import VGG16\n",
    "    conv_base = VGG16(weights='imagenet',\n",
    "    include_top=False, input_shape=(256, 256, 3))\n",
    "    # esto es para congelarlas todas menos una especifica\n",
    "    conv_base.trainable = True\n",
    "    set_trainable = False\n",
    "    for layer in conv_base.layers:\n",
    "        if layer.name == 'block5_conv1':\n",
    "            set_trainable = True\n",
    "        if set_trainable:\n",
    "            layer.trainable = True\n",
    "        else:\n",
    "            layer.trainable = False\n",
    "\n",
    "    # esto es para entrenar solamente el clasificador\n",
    "    # conv_base.trainable = False\n",
    "\n",
    "    # pretrainded model\n",
    "    from tensorflow.keras import models\n",
    "    from tensorflow.keras import layers\n",
    "    model = models.Sequential()\n",
    "    model.add(conv_base)\n",
    "    # model.add(layers.Conv2D(64,(1,1)))\n",
    "    # model.add(layers.Conv2D(64,(1,1)))\n",
    "    model.add(layers.Flatten())\n",
    "    model.add(layers.Dropout(0.5))\n",
    "    model.add(layers.Dense(512, activation='relu'))\n",
    "    model.add(layers.BatchNormalization())\n",
    "    model.add(layers.Dropout(0.3))\n",
    "    model.add(layers.Dense(128, activation='relu',kernel_regularizer=l2(0.001)))\n",
    "    model.add(layers.BatchNormalization())\n",
    "    model.add(layers.Dense(1, activation='sigmoid'))\n",
    "\n",
    "    print(model.summary())\n",
    "\n",
    "    model.compile(loss='binary_crossentropy',\n",
    "    optimizer=RMSprop(lr=1e-5),\n",
    "    metrics=['accuracy'])\n",
    "\n",
    "\n",
    "    from tensorflow.keras.callbacks import EarlyStopping, ModelCheckpoint, ReduceLROnPlateau, TensorBoard\n",
    "    earlyStopping = EarlyStopping(monitor='val_loss', patience=10,verbose=0,mode='min')\n",
    "    mcp_save = ModelCheckpoint('.{epoch:02d}-{val_loss:.2f}-{val_acc:.2f}.h5',save_best_only=True,monitor='val_loss',mode='min')\n",
    "    reduce_lr_loss = ReduceLROnPlateau(monitor='val_loss', factor=0.1, patience=4, verbose=7, min_delta=1e-4, mode='min')\n",
    "    board = TensorBoard(log_dir='./logs', histogram_freq=0, batch_size=BATCH_SIZE,\n",
    "                        write_graph=True, \n",
    "                        write_images=True,\n",
    "    #                     update_freq='epoch'\n",
    "                       )\n",
    "    callbacks=[earlyStopping,reduce_lr_loss,board]\n",
    "    return model,callbacks"
   ]
  },
  {
   "cell_type": "code",
   "execution_count": 21,
   "metadata": {},
   "outputs": [],
   "source": [
    "def plot_learning_curves(pickle_history_file_path='histories_learning_curves.pickle',sequence_of_data_sizes=[600,900,1200,1500,1800,2100,2400,2700,3200,3500],metric='loss'):\n",
    "    with open(pickle_history_file_path,'rb') as file:\n",
    "        histories = pickle.load(file)\n",
    "    print(len(histories[0]))\n",
    "    if metric == 'loss':\n",
    "        plt.plot(sequence_of_data_sizes,[min(x) for _,_,_,x,_ in histories],'b',label='training error')\n",
    "        plt.plot(sequence_of_data_sizes,[min(y) for _,_,_,_,y in histories],'r',label='validation error')\n",
    "        plt.title('Training and validation loss')\n",
    "    elif metric == 'acc':\n",
    "        plt.plot(sequence_of_data_sizes,[min(x) for _,x,_,_,_ in histories],'b',label='training acc')\n",
    "        plt.plot(sequence_of_data_sizes,[min(y) for _,_,y,_,_ in histories],'r',label='validation acc')\n",
    "        plt.title('Training and validation acc')\n",
    "        \n",
    "    plt.legend()\n",
    "    plt.show()"
   ]
  },
  {
   "cell_type": "code",
   "execution_count": 3,
   "metadata": {},
   "outputs": [],
   "source": [
    "history_file_name='history_learning_curves_with_loss_funct.pickle'"
   ]
  },
  {
   "cell_type": "code",
   "execution_count": 15,
   "metadata": {},
   "outputs": [
    {
     "ename": "NameError",
     "evalue": "name 'learning_curves' is not defined",
     "output_type": "error",
     "traceback": [
      "\u001b[0;31m---------------------------------------------------------------------------\u001b[0m",
      "\u001b[0;31mNameError\u001b[0m                                 Traceback (most recent call last)",
      "\u001b[0;32m<ipython-input-15-ec0b37c331e8>\u001b[0m in \u001b[0;36m<module>\u001b[0;34m()\u001b[0m\n\u001b[0;32m----> 1\u001b[0;31m \u001b[0mlearning_curves\u001b[0m\u001b[0;34m(\u001b[0m\u001b[0minit_model\u001b[0m\u001b[0;34m,\u001b[0m\u001b[0mhistory_file_name\u001b[0m\u001b[0;34m=\u001b[0m\u001b[0mhistory_file_name\u001b[0m\u001b[0;34m,\u001b[0m\u001b[0msequence_of_data_sizes\u001b[0m\u001b[0;34m=\u001b[0m\u001b[0;34m[\u001b[0m\u001b[0;36m2000\u001b[0m\u001b[0;34m,\u001b[0m\u001b[0;36m2100\u001b[0m\u001b[0;34m,\u001b[0m\u001b[0;36m2200\u001b[0m\u001b[0;34m,\u001b[0m\u001b[0;36m2300\u001b[0m\u001b[0;34m,\u001b[0m\u001b[0;36m2400\u001b[0m\u001b[0;34m,\u001b[0m\u001b[0;36m2500\u001b[0m\u001b[0;34m,\u001b[0m\u001b[0;36m2600\u001b[0m\u001b[0;34m,\u001b[0m\u001b[0;36m2700\u001b[0m\u001b[0;34m,\u001b[0m\u001b[0;36m2800\u001b[0m\u001b[0;34m,\u001b[0m\u001b[0;36m2900\u001b[0m\u001b[0;34m,\u001b[0m\u001b[0;36m3000\u001b[0m\u001b[0;34m,\u001b[0m\u001b[0;36m3100\u001b[0m\u001b[0;34m,\u001b[0m\u001b[0;36m3200\u001b[0m\u001b[0;34m,\u001b[0m\u001b[0;36m3300\u001b[0m\u001b[0;34m,\u001b[0m\u001b[0;36m3400\u001b[0m\u001b[0;34m,\u001b[0m\u001b[0;36m3500\u001b[0m\u001b[0;34m]\u001b[0m\u001b[0;34m)\u001b[0m\u001b[0;34m\u001b[0m\u001b[0m\n\u001b[0m",
      "\u001b[0;31mNameError\u001b[0m: name 'learning_curves' is not defined"
     ]
    }
   ],
   "source": [
    "learning_curves(init_model,history_file_name=history_file_name,sequence_of_data_sizes=[2000,2100,2200,2300,2400,2500,2600,2700,2800,2900,3000,3100,3200,3300,3400,3500])"
   ]
  },
  {
   "cell_type": "code",
   "execution_count": 22,
   "metadata": {},
   "outputs": [
    {
     "name": "stdout",
     "output_type": "stream",
     "text": [
      "5\n"
     ]
    },
    {
     "data": {
      "image/png": "[encoded data removed]",
      "text/plain": [
       "<Figure size 432x288 with 1 Axes>"
      ]
     },
     "metadata": {},
     "output_type": "display_data"
    }
   ],
   "source": [
    "plot_learning_curves(history_file_name,sequence_of_data_sizes=[2000,2100,2200,2300,2400,2500,2600,2700,2800,2900,3000,3100,3200,3300,3400,3500])"
   ]
  },
  {
   "cell_type": "code",
   "execution_count": 23,
   "metadata": {},
   "outputs": [
    {
     "name": "stdout",
     "output_type": "stream",
     "text": [
      "5\n"
     ]
    },
    {
     "data": {
      "image/png": "[encoded data removed]",
      "text/plain": [
       "<Figure size 432x288 with 1 Axes>"
      ]
     },
     "metadata": {},
     "output_type": "display_data"
    }
   ],
   "source": [
    "import pickle\n",
    "from matplotlib import pyplot as plt\n",
    "plot_learning_curves(history_file_name,sequence_of_data_sizes=[2000,2100,2200,2300,2400,2500,2600,2700,2800,2900,3000,3100,3200,3300,3400,3500],metric='acc')"
   ]
  },
  {
   "cell_type": "code",
   "execution_count": null,
   "metadata": {},
   "outputs": [],
   "source": []
  }
 ],
 "metadata": {
  "kernelspec": {
   "display_name": "Python 3",
   "language": "python",
   "name": "python3"
  },
  "language_info": {
   "codemirror_mode": {
    "name": "ipython",
    "version": 3
   },
   "file_extension": ".py",
   "mimetype": "text/x-python",
   "name": "python",
   "nbconvert_exporter": "python",
   "pygments_lexer": "ipython3",
   "version": "3.6.5"
  }
 },
 "nbformat": 4,
 "nbformat_minor": 2
}
